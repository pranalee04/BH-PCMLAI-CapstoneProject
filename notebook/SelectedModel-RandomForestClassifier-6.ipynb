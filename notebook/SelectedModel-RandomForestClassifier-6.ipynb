{
 "cells": [
  {
   "attachments": {},
   "cell_type": "markdown",
   "metadata": {},
   "source": [
    "# Capstone Project: Malicious URL detection using Machine Learning and Artificial Intelligence\n"
   ]
  },
  {
   "attachments": {},
   "cell_type": "markdown",
   "metadata": {},
   "source": [
    "### Model Experiments\n",
    "#### Explore models hyperparameters"
   ]
  },
  {
   "attachments": {},
   "cell_type": "markdown",
   "metadata": {},
   "source": [
    "### Import libraries"
   ]
  },
  {
   "cell_type": "code",
   "execution_count": 1,
   "metadata": {},
   "outputs": [],
   "source": [
    "import pandas as pd\n",
    "import numpy as np\n",
    "import seaborn as sns\n",
    "import matplotlib.pyplot as plt\n",
    "import plotly.express as px\n",
    "import plotly.io as pio\n",
    "pio.renderers.default = \"notebook\"\n",
    "import time\n",
    "import warnings\n",
    "from colorama import Fore\n",
    "from urllib.parse import urlparse\n",
    "from sklearn.model_selection import train_test_split\n",
    "from sklearn.metrics import confusion_matrix, ConfusionMatrixDisplay,classification_report, accuracy_score,f1_score, precision_score, recall_score, roc_auc_score,roc_curve\n",
    "from sklearn.ensemble import RandomForestClassifier\n",
    "\n",
    "from scipy.stats import randint as sp_randint\n",
    "from scipy.stats import uniform as sp_uniform\n",
    "\n",
    "\n",
    "# Ignore warnings\n",
    "warnings.filterwarnings('ignore')"
   ]
  },
  {
   "cell_type": "code",
   "execution_count": 2,
   "metadata": {},
   "outputs": [],
   "source": [
    "#Collect Initial Data\n",
    "df4 = pd.read_csv('../data/finaldataset/maliciousurl_processed.csv')\n"
   ]
  },
  {
   "cell_type": "code",
   "execution_count": 3,
   "metadata": {},
   "outputs": [
    {
     "data": {
      "text/html": [
       "<div>\n",
       "<style scoped>\n",
       "    .dataframe tbody tr th:only-of-type {\n",
       "        vertical-align: middle;\n",
       "    }\n",
       "\n",
       "    .dataframe tbody tr th {\n",
       "        vertical-align: top;\n",
       "    }\n",
       "\n",
       "    .dataframe thead th {\n",
       "        text-align: right;\n",
       "    }\n",
       "</style>\n",
       "<table border=\"1\" class=\"dataframe\">\n",
       "  <thead>\n",
       "    <tr style=\"text-align: right;\">\n",
       "      <th></th>\n",
       "      <th>url</th>\n",
       "      <th>type</th>\n",
       "      <th>category</th>\n",
       "      <th>url_len</th>\n",
       "      <th>domain</th>\n",
       "      <th>root_domain</th>\n",
       "      <th>count_at</th>\n",
       "      <th>count-question</th>\n",
       "      <th>count_hyphen</th>\n",
       "      <th>count_equal</th>\n",
       "      <th>...</th>\n",
       "      <th>count_https</th>\n",
       "      <th>count_http</th>\n",
       "      <th>count_www</th>\n",
       "      <th>digits_count</th>\n",
       "      <th>hostname_length</th>\n",
       "      <th>sus_url</th>\n",
       "      <th>letters_count</th>\n",
       "      <th>short_url</th>\n",
       "      <th>use_of_ip</th>\n",
       "      <th>url_region</th>\n",
       "    </tr>\n",
       "  </thead>\n",
       "  <tbody>\n",
       "    <tr>\n",
       "      <th>0</th>\n",
       "      <td>br-icloud.com.br</td>\n",
       "      <td>phishing</td>\n",
       "      <td>3</td>\n",
       "      <td>16</td>\n",
       "      <td>br-icloud.com.br</td>\n",
       "      <td>1310791</td>\n",
       "      <td>0</td>\n",
       "      <td>0</td>\n",
       "      <td>1</td>\n",
       "      <td>0</td>\n",
       "      <td>...</td>\n",
       "      <td>0</td>\n",
       "      <td>0</td>\n",
       "      <td>0</td>\n",
       "      <td>0</td>\n",
       "      <td>0</td>\n",
       "      <td>0</td>\n",
       "      <td>13</td>\n",
       "      <td>0</td>\n",
       "      <td>0</td>\n",
       "      <td>26</td>\n",
       "    </tr>\n",
       "    <tr>\n",
       "      <th>1</th>\n",
       "      <td>mp3raid.com/music/krizz_kaliko.html</td>\n",
       "      <td>benign</td>\n",
       "      <td>0</td>\n",
       "      <td>35</td>\n",
       "      <td>mp3raid.com</td>\n",
       "      <td>58335668</td>\n",
       "      <td>0</td>\n",
       "      <td>0</td>\n",
       "      <td>0</td>\n",
       "      <td>0</td>\n",
       "      <td>...</td>\n",
       "      <td>0</td>\n",
       "      <td>0</td>\n",
       "      <td>0</td>\n",
       "      <td>1</td>\n",
       "      <td>0</td>\n",
       "      <td>0</td>\n",
       "      <td>29</td>\n",
       "      <td>0</td>\n",
       "      <td>0</td>\n",
       "      <td>72</td>\n",
       "    </tr>\n",
       "    <tr>\n",
       "      <th>2</th>\n",
       "      <td>bopsecrets.org/rexroth/cr/1.htm</td>\n",
       "      <td>benign</td>\n",
       "      <td>0</td>\n",
       "      <td>31</td>\n",
       "      <td>bopsecrets.org</td>\n",
       "      <td>28611805</td>\n",
       "      <td>0</td>\n",
       "      <td>0</td>\n",
       "      <td>0</td>\n",
       "      <td>0</td>\n",
       "      <td>...</td>\n",
       "      <td>0</td>\n",
       "      <td>0</td>\n",
       "      <td>0</td>\n",
       "      <td>1</td>\n",
       "      <td>0</td>\n",
       "      <td>0</td>\n",
       "      <td>25</td>\n",
       "      <td>0</td>\n",
       "      <td>0</td>\n",
       "      <td>72</td>\n",
       "    </tr>\n",
       "    <tr>\n",
       "      <th>3</th>\n",
       "      <td>http://garage-pirenne.be/index.php?option=com_...</td>\n",
       "      <td>defacement</td>\n",
       "      <td>1</td>\n",
       "      <td>84</td>\n",
       "      <td>garage-pirenne.be</td>\n",
       "      <td>89045308</td>\n",
       "      <td>0</td>\n",
       "      <td>1</td>\n",
       "      <td>1</td>\n",
       "      <td>4</td>\n",
       "      <td>...</td>\n",
       "      <td>0</td>\n",
       "      <td>1</td>\n",
       "      <td>0</td>\n",
       "      <td>7</td>\n",
       "      <td>17</td>\n",
       "      <td>0</td>\n",
       "      <td>60</td>\n",
       "      <td>0</td>\n",
       "      <td>0</td>\n",
       "      <td>18</td>\n",
       "    </tr>\n",
       "    <tr>\n",
       "      <th>4</th>\n",
       "      <td>http://adventure-nicaragua.net/index.php?optio...</td>\n",
       "      <td>defacement</td>\n",
       "      <td>1</td>\n",
       "      <td>235</td>\n",
       "      <td>adventure-nicaragua.net</td>\n",
       "      <td>76838614</td>\n",
       "      <td>0</td>\n",
       "      <td>1</td>\n",
       "      <td>1</td>\n",
       "      <td>3</td>\n",
       "      <td>...</td>\n",
       "      <td>0</td>\n",
       "      <td>1</td>\n",
       "      <td>0</td>\n",
       "      <td>22</td>\n",
       "      <td>23</td>\n",
       "      <td>0</td>\n",
       "      <td>199</td>\n",
       "      <td>0</td>\n",
       "      <td>0</td>\n",
       "      <td>72</td>\n",
       "    </tr>\n",
       "  </tbody>\n",
       "</table>\n",
       "<p>5 rows × 31 columns</p>\n",
       "</div>"
      ],
      "text/plain": [
       "                                                 url        type  category  \\\n",
       "0                                   br-icloud.com.br    phishing         3   \n",
       "1                mp3raid.com/music/krizz_kaliko.html      benign         0   \n",
       "2                    bopsecrets.org/rexroth/cr/1.htm      benign         0   \n",
       "3  http://garage-pirenne.be/index.php?option=com_...  defacement         1   \n",
       "4  http://adventure-nicaragua.net/index.php?optio...  defacement         1   \n",
       "\n",
       "   url_len                   domain  root_domain  count_at  count-question  \\\n",
       "0       16         br-icloud.com.br      1310791         0               0   \n",
       "1       35              mp3raid.com     58335668         0               0   \n",
       "2       31           bopsecrets.org     28611805         0               0   \n",
       "3       84        garage-pirenne.be     89045308         0               1   \n",
       "4      235  adventure-nicaragua.net     76838614         0               1   \n",
       "\n",
       "   count_hyphen  count_equal  ...  count_https  count_http  count_www  \\\n",
       "0             1            0  ...            0           0          0   \n",
       "1             0            0  ...            0           0          0   \n",
       "2             0            0  ...            0           0          0   \n",
       "3             1            4  ...            0           1          0   \n",
       "4             1            3  ...            0           1          0   \n",
       "\n",
       "   digits_count  hostname_length  sus_url  letters_count  short_url  \\\n",
       "0             0                0        0             13          0   \n",
       "1             1                0        0             29          0   \n",
       "2             1                0        0             25          0   \n",
       "3             7               17        0             60          0   \n",
       "4            22               23        0            199          0   \n",
       "\n",
       "   use_of_ip  url_region  \n",
       "0          0          26  \n",
       "1          0          72  \n",
       "2          0          72  \n",
       "3          0          18  \n",
       "4          0          72  \n",
       "\n",
       "[5 rows x 31 columns]"
      ]
     },
     "execution_count": 3,
     "metadata": {},
     "output_type": "execute_result"
    }
   ],
   "source": [
    "df4.head()"
   ]
  },
  {
   "cell_type": "code",
   "execution_count": 4,
   "metadata": {},
   "outputs": [
    {
     "data": {
      "text/plain": [
       "(651191, 31)"
      ]
     },
     "execution_count": 4,
     "metadata": {},
     "output_type": "execute_result"
    }
   ],
   "source": [
    "df4.shape"
   ]
  },
  {
   "cell_type": "code",
   "execution_count": 5,
   "metadata": {},
   "outputs": [
    {
     "name": "stdout",
     "output_type": "stream",
     "text": [
      "Index(['url', 'type', 'category', 'url_len', 'domain', 'root_domain',\n",
      "       'count_at', 'count-question', 'count_hyphen', 'count_equal',\n",
      "       'count_dot', 'count_hash', 'count_percent', 'count_plus',\n",
      "       'count_dollarsign', 'count_exlamation', 'count_star', 'count_comma',\n",
      "       'count_double_slash', 'count_slash', 'abnormal_url', 'count_https',\n",
      "       'count_http', 'count_www', 'digits_count', 'hostname_length', 'sus_url',\n",
      "       'letters_count', 'short_url', 'use_of_ip'],\n",
      "      dtype='object')\n",
      "Number of features: 30\n"
     ]
    }
   ],
   "source": [
    "features = df4.columns[:-1]\n",
    "print(features)\n",
    "print('Number of features: {}'.format(len(features)))"
   ]
  },
  {
   "attachments": {},
   "cell_type": "markdown",
   "metadata": {},
   "source": [
    "###  Train/Test Split\n",
    "\n",
    "With your data prepared, split it into a train and test set."
   ]
  },
  {
   "cell_type": "code",
   "execution_count": 6,
   "metadata": {},
   "outputs": [],
   "source": [
    "X = df4.drop(['url','type','category','domain'],axis=1)\n",
    "y = df4['category']"
   ]
  },
  {
   "cell_type": "code",
   "execution_count": 7,
   "metadata": {},
   "outputs": [],
   "source": [
    "X_train, X_test, y_train, y_test = train_test_split(X, y, test_size=0.2, random_state=42)"
   ]
  },
  {
   "attachments": {},
   "cell_type": "markdown",
   "metadata": {},
   "source": [
    "### Refining selected model "
   ]
  },
  {
   "attachments": {},
   "cell_type": "markdown",
   "metadata": {},
   "source": [
    "### RandomForest Classifier"
   ]
  },
  {
   "cell_type": "code",
   "execution_count": 8,
   "metadata": {},
   "outputs": [
    {
     "name": "stdout",
     "output_type": "stream",
     "text": [
      "Depth:  1  Accuracy:  0.7672740116247821\n",
      "Depth:  2  Accuracy:  0.7602561444728537\n",
      "Depth:  3  Accuracy:  0.7929652408264806\n",
      "Depth:  4  Accuracy:  0.8528858483250025\n",
      "Depth:  5  Accuracy:  0.8632283724537198\n",
      "Depth:  6  Accuracy:  0.8725420189037078\n",
      "Depth:  7  Accuracy:  0.8791836546656532\n",
      "Depth:  8  Accuracy:  0.8876143090779259\n",
      "Depth:  9  Accuracy:  0.8939564953662114\n",
      "Depth:  10  Accuracy:  0.8994464023833106\n",
      "Depth:  11  Accuracy:  0.9045677562020593\n",
      "Depth:  12  Accuracy:  0.9089059344743126\n",
      "Depth:  13  Accuracy:  0.913819977118989\n",
      "Depth:  14  Accuracy:  0.9172444505869978\n",
      "Depth:  15  Accuracy:  0.9206996368215358\n",
      "Depth:  16  Accuracy:  0.9246231927456445\n",
      "Depth:  17  Accuracy:  0.9272491342838934\n",
      "Depth:  18  Accuracy:  0.9301207779543762\n",
      "Depth:  19  Accuracy:  0.9317024854306314\n",
      "Depth:  20  Accuracy:  0.9337755971713542\n",
      "Depth:  21  Accuracy:  0.9360329855112524\n",
      "Depth:  22  Accuracy:  0.9379371770360645\n",
      "Depth:  23  Accuracy:  0.9390889057809105\n",
      "Depth:  24  Accuracy:  0.9400486797349489\n",
      "Depth:  25  Accuracy:  0.9409700627308256\n",
      "Depth:  26  Accuracy:  0.9415612834865132\n"
     ]
    }
   ],
   "source": [
    "depth_list = []\n",
    "accuracy_list = []\n",
    "\n",
    "for depth in range(1,len(X.columns)):\n",
    "    tree = RandomForestClassifier(max_depth=depth)\n",
    "    tree.fit(X_train, y_train)\n",
    "    accuracy = tree.score(X_test,y_test)\n",
    "    print('Depth: ',depth, ' Accuracy: ', accuracy)\n",
    "    accuracy_list.append(tree.score(X_test,y_test))\n",
    "    depth_list.append(depth)"
   ]
  },
  {
   "cell_type": "code",
   "execution_count": 10,
   "metadata": {},
   "outputs": [],
   "source": [
    "tree_df = pd.DataFrame({'depth': depth_list, 'accuracy' : accuracy_list})"
   ]
  },
  {
   "cell_type": "code",
   "execution_count": 11,
   "metadata": {},
   "outputs": [
    {
     "data": {
      "image/png": "[encoded data removed]",
      "text/plain": [
       "<Figure size 432x288 with 1 Axes>"
      ]
     },
     "metadata": {
      "needs_background": "light"
     },
     "output_type": "display_data"
    }
   ],
   "source": [
    "\n",
    "plt.plot(tree_df['depth'], tree_df['accuracy'])\n",
    "plt.show()"
   ]
  },
  {
   "cell_type": "code",
   "execution_count": 15,
   "metadata": {},
   "outputs": [
    {
     "name": "stdout",
     "output_type": "stream",
     "text": [
      "Estimator:  100  Accuracy:  0.9411389829467364\n",
      "Estimator:  150  Accuracy:  0.9415689616781455\n",
      "Estimator:  200  Accuracy:  0.941430754228764\n",
      "Estimator:  250  Accuracy:  0.9415996744446747\n"
     ]
    }
   ],
   "source": [
    "estimator_list = []\n",
    "accuracy_list = []\n",
    "#range changed based on previous run\n",
    "for estimator in range(100,300,50):\n",
    "    tree = RandomForestClassifier(max_depth=26,n_estimators=estimator)\n",
    "    tree.fit(X_train, y_train)\n",
    "    accuracy = tree.score(X_test,y_test)\n",
    "    print('Estimator: ',estimator, ' Accuracy: ', accuracy)\n",
    "    accuracy_list.append(tree.score(X_test,y_test))\n",
    "    estimator_list.append(depth)"
   ]
  },
  {
   "attachments": {},
   "cell_type": "markdown",
   "metadata": {},
   "source": [
    "Estimator=250 will give best accuracy"
   ]
  },
  {
   "cell_type": "code",
   "execution_count": 17,
   "metadata": {},
   "outputs": [
    {
     "data": {
      "text/plain": [
       "array([0.93971648, 0.93972608, 0.93933199, 0.94001344, 0.94110759])"
      ]
     },
     "execution_count": 17,
     "metadata": {},
     "output_type": "execute_result"
    }
   ],
   "source": [
    "from sklearn.model_selection import cross_val_score\n",
    "tree = RandomForestClassifier( n_estimators=250,max_depth=26,random_state=42)\n",
    "\n",
    "cv_score = cross_val_score(tree, X_train, y_train, cv=5)\n",
    "cv_score"
   ]
  },
  {
   "cell_type": "code",
   "execution_count": null,
   "metadata": {},
   "outputs": [],
   "source": [
    "\n",
    "print(\"Mean: {:.2f}\".format(cv_score.mean()))"
   ]
  },
  {
   "cell_type": "code",
   "execution_count": 19,
   "metadata": {},
   "outputs": [
    {
     "name": "stdout",
     "output_type": "stream",
     "text": [
      "              precision    recall  f1-score   support\n",
      "\n",
      "      benign       0.94      0.99      0.96     85778\n",
      "  defacement       0.96      1.00      0.98     19104\n",
      "    phishing       0.99      0.93      0.96      6521\n",
      "     malware       0.90      0.67      0.77     18836\n",
      "\n",
      "    accuracy                           0.94    130239\n",
      "   macro avg       0.95      0.90      0.92    130239\n",
      "weighted avg       0.94      0.94      0.94    130239\n",
      "\n",
      "accuracy:   0.9406475786822688\n",
      "RandomForestClassifier : 0.9406475786822688 |Time:1658737321.112221\n"
     ]
    }
   ],
   "source": [
    "import sklearn.metrics as metrics\n",
    "rf = RandomForestClassifier( n_estimators=250,max_depth=25,random_state=42)\n",
    "start_time = time.time()\n",
    "rf.fit(X_train,y_train)\n",
    "elapsed_time = time.time() - start_time/ 60  # convert to minutes\n",
    "y_pred_rf = rf.predict(X_test)\n",
    "print(classification_report(y_test,y_pred_rf,target_names=['benign', 'defacement','phishing','malware']))\n",
    "\n",
    "score = metrics.accuracy_score(y_test, y_pred_rf)\n",
    "print(\"accuracy:   %s\" % score)\n",
    "print (\"%s : %s |Time:%s\" %(\"RandomForestClassifier\", score,elapsed_time))"
   ]
  },
  {
   "cell_type": "code",
   "execution_count": 21,
   "metadata": {},
   "outputs": [
    {
     "data": {
      "image/png": "[encoded data removed]",
      "text/plain": [
       "<Figure size 720x432 with 1 Axes>"
      ]
     },
     "metadata": {
      "needs_background": "light"
     },
     "output_type": "display_data"
    }
   ],
   "source": [
    "feat_importances = pd.Series(rf.feature_importances_, index=X_train.columns)\n",
    "feat_importances.sort_values().plot(kind=\"barh\",figsize=(10, 6)).set(xlabel='Type',title = 'Fearture importance for RandomForestClassifier Model')\n",
    "plt.savefig(\"images/fearture-importance-RandomForestClassifier-improved\")"
   ]
  },
  {
   "attachments": {},
   "cell_type": "markdown",
   "metadata": {},
   "source": [
    "I got accurancy of 93.70% for RandomForestClassifier in first phase with no parameter, after above experimentation the accurancy was improved to 94.064%. The feature importance increased too."
   ]
  }
 ],
 "metadata": {
  "kernelspec": {
   "display_name": "Python 3",
   "language": "python",
   "name": "python3"
  },
  "language_info": {
   "codemirror_mode": {
    "name": "ipython",
    "version": 3
   },
   "file_extension": ".py",
   "mimetype": "text/x-python",
   "name": "python",
   "nbconvert_exporter": "python",
   "pygments_lexer": "ipython3",
   "version": "3.9.12"
  },
  "widgets": {
   "application/vnd.jupyter.widget-state+json": {
    "state": {},
    "version_major": 2,
    "version_minor": 0
   }
  }
 },
 "nbformat": 4,
 "nbformat_minor": 4
}
