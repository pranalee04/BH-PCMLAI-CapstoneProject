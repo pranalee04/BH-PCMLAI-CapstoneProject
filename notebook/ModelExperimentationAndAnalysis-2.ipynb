{
 "cells": [
  {
   "attachments": {},
   "cell_type": "markdown",
   "metadata": {},
   "source": [
    "# Capstone Project: Malacious URL detection using Machine Learning and Artificial Intelligence\n"
   ]
  },
  {
   "attachments": {},
   "cell_type": "markdown",
   "metadata": {},
   "source": [
    "### Model Experiments\n",
    "\n",
    "#### Explore some Machine Learning Algorithms"
   ]
  },
  {
   "attachments": {},
   "cell_type": "markdown",
   "metadata": {},
   "source": [
    "### Import libraries"
   ]
  },
  {
   "cell_type": "code",
   "execution_count": 14,
   "metadata": {},
   "outputs": [],
   "source": [
    "import pandas as pd\n",
    "import numpy as np\n",
    "import seaborn as sns\n",
    "import matplotlib.pyplot as plt\n",
    "import plotly.express as px\n",
    "import plotly.io as pio\n",
    "pio.renderers.default = \"notebook\"\n",
    "import time\n",
    "import warnings\n",
    "\n",
    "from sklearn.utils.multiclass import unique_labels\n",
    "from matplotlib import pyplot as plt\n",
    "from sklearn.utils import shuffle\n",
    "from pandas.plotting import scatter_matrix\n",
    "\n",
    "from sklearn.metrics import accuracy_score\n",
    "\n",
    "\n",
    "from colorama import Fore\n",
    "from urllib.parse import urlparse\n",
    "from sklearn.linear_model import LogisticRegression\n",
    "from sklearn.model_selection import train_test_split, GridSearchCV, RandomizedSearchCV\n",
    "from sklearn.metrics import confusion_matrix, classification_report, accuracy_score,f1_score, precision_score, recall_score, roc_auc_score,roc_curve\n",
    "from sklearn.tree import DecisionTreeClassifier\n",
    "from sklearn.ensemble import RandomForestClassifier, AdaBoostClassifier, ExtraTreesClassifier,GradientBoostingClassifier\n",
    "from sklearn.neighbors import KNeighborsClassifier\n",
    "from sklearn.linear_model import SGDClassifier\n",
    "from sklearn.naive_bayes import GaussianNB\n",
    "from sklearn.svm import SVC\n",
    "from xgboost import XGBClassifier\n",
    "from lightgbm import LGBMClassifier\n",
    "\n",
    "from sklearn.metrics import confusion_matrix, classification_report,ConfusionMatrixDisplay\n",
    "from sklearn.compose import make_column_transformer\n",
    "from sklearn.metrics import precision_recall_fscore_support\n",
    "\n",
    "\n",
    "from sklearn import model_selection\n",
    "from sklearn.metrics import classification_report\n",
    "from sklearn.metrics import confusion_matrix\n",
    "from sklearn.discriminant_analysis import LinearDiscriminantAnalysis"
   ]
  },
  {
   "attachments": {},
   "cell_type": "markdown",
   "metadata": {},
   "source": [
    "### Load Dataset"
   ]
  },
  {
   "attachments": {},
   "cell_type": "markdown",
   "metadata": {},
   "source": [
    "#### Read in the Data\n",
    "\n",
    "Use pandas to read in the dataset `malicious_phish.csv`."
   ]
  },
  {
   "cell_type": "code",
   "execution_count": 15,
   "metadata": {},
   "outputs": [],
   "source": [
    "#Collect Initial Data\n",
    "df1 = pd.read_csv('../data/finaldataset/maliciousurl_processed.csv')\n"
   ]
  },
  {
   "attachments": {},
   "cell_type": "markdown",
   "metadata": {},
   "source": [
    "### Summarize the Dataset\n",
    "- check dimensions of the dataset\n",
    "- peek at the data\n",
    "- see the statistical summary of the attributes\n",
    "- breakdown the data by the class"
   ]
  },
  {
   "cell_type": "code",
   "execution_count": 16,
   "metadata": {},
   "outputs": [
    {
     "data": {
      "text/plain": [
       "(651191, 31)"
      ]
     },
     "execution_count": 16,
     "metadata": {},
     "output_type": "execute_result"
    }
   ],
   "source": [
    "df1.shape"
   ]
  },
  {
   "cell_type": "code",
   "execution_count": 17,
   "metadata": {},
   "outputs": [
    {
     "data": {
      "text/plain": [
       "Index(['url', 'type', 'category', 'url_len', 'domain', 'root_domain',\n",
       "       'count_at', 'count-question', 'count_hyphen', 'count_equal',\n",
       "       'count_dot', 'count_hash', 'count_percent', 'count_plus',\n",
       "       'count_dollarsign', 'count_exlamation', 'count_star', 'count_comma',\n",
       "       'count_double_slash', 'count_slash', 'abnormal_url', 'count_https',\n",
       "       'count_http', 'count_www', 'digits_count', 'hostname_length', 'sus_url',\n",
       "       'letters_count', 'short_url', 'use_of_ip', 'url_region'],\n",
       "      dtype='object')"
      ]
     },
     "execution_count": 17,
     "metadata": {},
     "output_type": "execute_result"
    }
   ],
   "source": [
    "# see all the attributes\n",
    "df1.columns"
   ]
  },
  {
   "cell_type": "code",
   "execution_count": 18,
   "metadata": {},
   "outputs": [
    {
     "data": {
      "text/plain": [
       "url                   object\n",
       "type                  object\n",
       "category               int64\n",
       "url_len                int64\n",
       "domain                object\n",
       "root_domain            int64\n",
       "count_at               int64\n",
       "count-question         int64\n",
       "count_hyphen           int64\n",
       "count_equal            int64\n",
       "count_dot              int64\n",
       "count_hash             int64\n",
       "count_percent          int64\n",
       "count_plus             int64\n",
       "count_dollarsign       int64\n",
       "count_exlamation       int64\n",
       "count_star             int64\n",
       "count_comma            int64\n",
       "count_double_slash     int64\n",
       "count_slash            int64\n",
       "abnormal_url           int64\n",
       "count_https            int64\n",
       "count_http             int64\n",
       "count_www              int64\n",
       "digits_count           int64\n",
       "hostname_length        int64\n",
       "sus_url                int64\n",
       "letters_count          int64\n",
       "short_url              int64\n",
       "use_of_ip              int64\n",
       "url_region             int64\n",
       "dtype: object"
      ]
     },
     "execution_count": 18,
     "metadata": {},
     "output_type": "execute_result"
    }
   ],
   "source": [
    "# check data types\n",
    "pd.options.display.max_columns = None\n",
    "pd.options.display.max_rows = None\n",
    "df1.dtypes"
   ]
  },
  {
   "cell_type": "code",
   "execution_count": 19,
   "metadata": {},
   "outputs": [
    {
     "data": {
      "text/html": [
       "<div>\n",
       "<style scoped>\n",
       "    .dataframe tbody tr th:only-of-type {\n",
       "        vertical-align: middle;\n",
       "    }\n",
       "\n",
       "    .dataframe tbody tr th {\n",
       "        vertical-align: top;\n",
       "    }\n",
       "\n",
       "    .dataframe thead th {\n",
       "        text-align: right;\n",
       "    }\n",
       "</style>\n",
       "<table border=\"1\" class=\"dataframe\">\n",
       "  <thead>\n",
       "    <tr style=\"text-align: right;\">\n",
       "      <th></th>\n",
       "      <th>url</th>\n",
       "      <th>type</th>\n",
       "      <th>category</th>\n",
       "      <th>url_len</th>\n",
       "      <th>domain</th>\n",
       "      <th>root_domain</th>\n",
       "      <th>count_at</th>\n",
       "      <th>count-question</th>\n",
       "      <th>count_hyphen</th>\n",
       "      <th>count_equal</th>\n",
       "      <th>count_dot</th>\n",
       "      <th>count_hash</th>\n",
       "      <th>count_percent</th>\n",
       "      <th>count_plus</th>\n",
       "      <th>count_dollarsign</th>\n",
       "      <th>count_exlamation</th>\n",
       "      <th>count_star</th>\n",
       "      <th>count_comma</th>\n",
       "      <th>count_double_slash</th>\n",
       "      <th>count_slash</th>\n",
       "      <th>abnormal_url</th>\n",
       "      <th>count_https</th>\n",
       "      <th>count_http</th>\n",
       "      <th>count_www</th>\n",
       "      <th>digits_count</th>\n",
       "      <th>hostname_length</th>\n",
       "      <th>sus_url</th>\n",
       "      <th>letters_count</th>\n",
       "      <th>short_url</th>\n",
       "      <th>use_of_ip</th>\n",
       "      <th>url_region</th>\n",
       "    </tr>\n",
       "  </thead>\n",
       "  <tbody>\n",
       "    <tr>\n",
       "      <th>0</th>\n",
       "      <td>br-icloud.com.br</td>\n",
       "      <td>phishing</td>\n",
       "      <td>3</td>\n",
       "      <td>16</td>\n",
       "      <td>br-icloud.com.br</td>\n",
       "      <td>1310791</td>\n",
       "      <td>0</td>\n",
       "      <td>0</td>\n",
       "      <td>1</td>\n",
       "      <td>0</td>\n",
       "      <td>2</td>\n",
       "      <td>0</td>\n",
       "      <td>0</td>\n",
       "      <td>0</td>\n",
       "      <td>0</td>\n",
       "      <td>0</td>\n",
       "      <td>0</td>\n",
       "      <td>0</td>\n",
       "      <td>0</td>\n",
       "      <td>0</td>\n",
       "      <td>0</td>\n",
       "      <td>0</td>\n",
       "      <td>0</td>\n",
       "      <td>0</td>\n",
       "      <td>0</td>\n",
       "      <td>0</td>\n",
       "      <td>0</td>\n",
       "      <td>13</td>\n",
       "      <td>0</td>\n",
       "      <td>0</td>\n",
       "      <td>26</td>\n",
       "    </tr>\n",
       "    <tr>\n",
       "      <th>1</th>\n",
       "      <td>mp3raid.com/music/krizz_kaliko.html</td>\n",
       "      <td>benign</td>\n",
       "      <td>0</td>\n",
       "      <td>35</td>\n",
       "      <td>mp3raid.com</td>\n",
       "      <td>58335668</td>\n",
       "      <td>0</td>\n",
       "      <td>0</td>\n",
       "      <td>0</td>\n",
       "      <td>0</td>\n",
       "      <td>2</td>\n",
       "      <td>0</td>\n",
       "      <td>0</td>\n",
       "      <td>0</td>\n",
       "      <td>0</td>\n",
       "      <td>0</td>\n",
       "      <td>0</td>\n",
       "      <td>0</td>\n",
       "      <td>0</td>\n",
       "      <td>2</td>\n",
       "      <td>0</td>\n",
       "      <td>0</td>\n",
       "      <td>0</td>\n",
       "      <td>0</td>\n",
       "      <td>1</td>\n",
       "      <td>0</td>\n",
       "      <td>0</td>\n",
       "      <td>29</td>\n",
       "      <td>0</td>\n",
       "      <td>0</td>\n",
       "      <td>72</td>\n",
       "    </tr>\n",
       "    <tr>\n",
       "      <th>2</th>\n",
       "      <td>bopsecrets.org/rexroth/cr/1.htm</td>\n",
       "      <td>benign</td>\n",
       "      <td>0</td>\n",
       "      <td>31</td>\n",
       "      <td>bopsecrets.org</td>\n",
       "      <td>28611805</td>\n",
       "      <td>0</td>\n",
       "      <td>0</td>\n",
       "      <td>0</td>\n",
       "      <td>0</td>\n",
       "      <td>2</td>\n",
       "      <td>0</td>\n",
       "      <td>0</td>\n",
       "      <td>0</td>\n",
       "      <td>0</td>\n",
       "      <td>0</td>\n",
       "      <td>0</td>\n",
       "      <td>0</td>\n",
       "      <td>0</td>\n",
       "      <td>3</td>\n",
       "      <td>0</td>\n",
       "      <td>0</td>\n",
       "      <td>0</td>\n",
       "      <td>0</td>\n",
       "      <td>1</td>\n",
       "      <td>0</td>\n",
       "      <td>0</td>\n",
       "      <td>25</td>\n",
       "      <td>0</td>\n",
       "      <td>0</td>\n",
       "      <td>72</td>\n",
       "    </tr>\n",
       "    <tr>\n",
       "      <th>3</th>\n",
       "      <td>http://garage-pirenne.be/index.php?option=com_...</td>\n",
       "      <td>defacement</td>\n",
       "      <td>1</td>\n",
       "      <td>84</td>\n",
       "      <td>garage-pirenne.be</td>\n",
       "      <td>89045308</td>\n",
       "      <td>0</td>\n",
       "      <td>1</td>\n",
       "      <td>1</td>\n",
       "      <td>4</td>\n",
       "      <td>2</td>\n",
       "      <td>0</td>\n",
       "      <td>0</td>\n",
       "      <td>0</td>\n",
       "      <td>0</td>\n",
       "      <td>0</td>\n",
       "      <td>0</td>\n",
       "      <td>0</td>\n",
       "      <td>1</td>\n",
       "      <td>3</td>\n",
       "      <td>1</td>\n",
       "      <td>0</td>\n",
       "      <td>1</td>\n",
       "      <td>0</td>\n",
       "      <td>7</td>\n",
       "      <td>17</td>\n",
       "      <td>0</td>\n",
       "      <td>60</td>\n",
       "      <td>0</td>\n",
       "      <td>0</td>\n",
       "      <td>18</td>\n",
       "    </tr>\n",
       "    <tr>\n",
       "      <th>4</th>\n",
       "      <td>http://adventure-nicaragua.net/index.php?optio...</td>\n",
       "      <td>defacement</td>\n",
       "      <td>1</td>\n",
       "      <td>235</td>\n",
       "      <td>adventure-nicaragua.net</td>\n",
       "      <td>76838614</td>\n",
       "      <td>0</td>\n",
       "      <td>1</td>\n",
       "      <td>1</td>\n",
       "      <td>3</td>\n",
       "      <td>2</td>\n",
       "      <td>0</td>\n",
       "      <td>0</td>\n",
       "      <td>0</td>\n",
       "      <td>0</td>\n",
       "      <td>0</td>\n",
       "      <td>0</td>\n",
       "      <td>0</td>\n",
       "      <td>1</td>\n",
       "      <td>3</td>\n",
       "      <td>1</td>\n",
       "      <td>0</td>\n",
       "      <td>1</td>\n",
       "      <td>0</td>\n",
       "      <td>22</td>\n",
       "      <td>23</td>\n",
       "      <td>0</td>\n",
       "      <td>199</td>\n",
       "      <td>0</td>\n",
       "      <td>0</td>\n",
       "      <td>72</td>\n",
       "    </tr>\n",
       "  </tbody>\n",
       "</table>\n",
       "</div>"
      ],
      "text/plain": [
       "                                                 url        type  category  \\\n",
       "0                                   br-icloud.com.br    phishing         3   \n",
       "1                mp3raid.com/music/krizz_kaliko.html      benign         0   \n",
       "2                    bopsecrets.org/rexroth/cr/1.htm      benign         0   \n",
       "3  http://garage-pirenne.be/index.php?option=com_...  defacement         1   \n",
       "4  http://adventure-nicaragua.net/index.php?optio...  defacement         1   \n",
       "\n",
       "   url_len                   domain  root_domain  count_at  count-question  \\\n",
       "0       16         br-icloud.com.br      1310791         0               0   \n",
       "1       35              mp3raid.com     58335668         0               0   \n",
       "2       31           bopsecrets.org     28611805         0               0   \n",
       "3       84        garage-pirenne.be     89045308         0               1   \n",
       "4      235  adventure-nicaragua.net     76838614         0               1   \n",
       "\n",
       "   count_hyphen  count_equal  count_dot  count_hash  count_percent  \\\n",
       "0             1            0          2           0              0   \n",
       "1             0            0          2           0              0   \n",
       "2             0            0          2           0              0   \n",
       "3             1            4          2           0              0   \n",
       "4             1            3          2           0              0   \n",
       "\n",
       "   count_plus  count_dollarsign  count_exlamation  count_star  count_comma  \\\n",
       "0           0                 0                 0           0            0   \n",
       "1           0                 0                 0           0            0   \n",
       "2           0                 0                 0           0            0   \n",
       "3           0                 0                 0           0            0   \n",
       "4           0                 0                 0           0            0   \n",
       "\n",
       "   count_double_slash  count_slash  abnormal_url  count_https  count_http  \\\n",
       "0                   0            0             0            0           0   \n",
       "1                   0            2             0            0           0   \n",
       "2                   0            3             0            0           0   \n",
       "3                   1            3             1            0           1   \n",
       "4                   1            3             1            0           1   \n",
       "\n",
       "   count_www  digits_count  hostname_length  sus_url  letters_count  \\\n",
       "0          0             0                0        0             13   \n",
       "1          0             1                0        0             29   \n",
       "2          0             1                0        0             25   \n",
       "3          0             7               17        0             60   \n",
       "4          0            22               23        0            199   \n",
       "\n",
       "   short_url  use_of_ip  url_region  \n",
       "0          0          0          26  \n",
       "1          0          0          72  \n",
       "2          0          0          72  \n",
       "3          0          0          18  \n",
       "4          0          0          72  "
      ]
     },
     "execution_count": 19,
     "metadata": {},
     "output_type": "execute_result"
    }
   ],
   "source": [
    "df1.head(5)"
   ]
  },
  {
   "cell_type": "code",
   "execution_count": 20,
   "metadata": {},
   "outputs": [
    {
     "name": "stdout",
     "output_type": "stream",
     "text": [
      "<class 'pandas.core.frame.DataFrame'>\n",
      "RangeIndex: 651191 entries, 0 to 651190\n",
      "Data columns (total 31 columns):\n",
      " #   Column              Non-Null Count   Dtype \n",
      "---  ------              --------------   ----- \n",
      " 0   url                 651191 non-null  object\n",
      " 1   type                651191 non-null  object\n",
      " 2   category            651191 non-null  int64 \n",
      " 3   url_len             651191 non-null  int64 \n",
      " 4   domain              638968 non-null  object\n",
      " 5   root_domain         651191 non-null  int64 \n",
      " 6   count_at            651191 non-null  int64 \n",
      " 7   count-question      651191 non-null  int64 \n",
      " 8   count_hyphen        651191 non-null  int64 \n",
      " 9   count_equal         651191 non-null  int64 \n",
      " 10  count_dot           651191 non-null  int64 \n",
      " 11  count_hash          651191 non-null  int64 \n",
      " 12  count_percent       651191 non-null  int64 \n",
      " 13  count_plus          651191 non-null  int64 \n",
      " 14  count_dollarsign    651191 non-null  int64 \n",
      " 15  count_exlamation    651191 non-null  int64 \n",
      " 16  count_star          651191 non-null  int64 \n",
      " 17  count_comma         651191 non-null  int64 \n",
      " 18  count_double_slash  651191 non-null  int64 \n",
      " 19  count_slash         651191 non-null  int64 \n",
      " 20  abnormal_url        651191 non-null  int64 \n",
      " 21  count_https         651191 non-null  int64 \n",
      " 22  count_http          651191 non-null  int64 \n",
      " 23  count_www           651191 non-null  int64 \n",
      " 24  digits_count        651191 non-null  int64 \n",
      " 25  hostname_length     651191 non-null  int64 \n",
      " 26  sus_url             651191 non-null  int64 \n",
      " 27  letters_count       651191 non-null  int64 \n",
      " 28  short_url           651191 non-null  int64 \n",
      " 29  use_of_ip           651191 non-null  int64 \n",
      " 30  url_region          651191 non-null  int64 \n",
      "dtypes: int64(28), object(3)\n",
      "memory usage: 154.0+ MB\n"
     ]
    }
   ],
   "source": [
    "df1.info()"
   ]
  },
  {
   "attachments": {},
   "cell_type": "markdown",
   "metadata": {},
   "source": [
    "### Understanding the Features\n",
    "\n",
    "This project is using a Malicious URLs dataset of 6,51,191 URLs, out of which 4,28,103 benign or safe URLs, 96,457 defacement URLs, 94,111 phishing URLs, and 32,520 malware URLs.\n",
    "\n",
    "Now, let’s discuss different types of URLs in our dataset i.e., Benign, Malware, Phishing, and Defacement URLs.\n",
    "\n",
    "- Benign URLs: These are safe to browse URLs. Some of the examples of benign URLs are as follows:\n",
    "mp3raid.com/music/krizz_kaliko.html\n",
    "infinitysw.com\n",
    "google.co.in\n",
    "myspace.com\n",
    "- Malware URLs: These type of URLs inject malware into the victim’s system once he/she visit such URLs. Some of the examples of malware URLs are as follows:\n",
    "proplast.co.nz\n",
    "http://103.112.226.142:36308/Mozi.m\n",
    "microencapsulation.readmyweather.com\n",
    "xo3fhvm5lcvzy92q.download\n",
    "- Defacement URLs: Defacement URLs are generally created by hackers with the intention of breaking into a web server and replacing the hosted website with one of their own, using techniques such as code injection, cross-site scripting, etc. Common targets of defacement URLs are religious websites, government websites, bank websites, and corporate websites. Some of the examples of defacement URLs are as follows:\n",
    "http://www.vnic.co/khach-hang.html\n",
    "http://www.raci.it/component/user/reset.html\n",
    "http://www.approvi.com.br/ck.htm\n",
    "http://www.juventudelirica.com.br/index.html\n",
    "- Phishing URLs: By creating phishing URLs, hackers try to steal sensitive personal or financial information such as login credentials, credit card numbers, internet banking details, etc. Some of the examples of     phishing URLs are shown below:\n",
    "roverslands.net\n",
    " -- corporacionrossenditotours.com\n",
    " -- http://drive-google-com.fanalav.com/6a7ec96d6a\n",
    " -- citiprepaid-salarysea-at.tk\n",
    "### Selected dataset features:\n",
    "- url = Malacious URL\n",
    "- type =Type of URL benign, malware,defacement,phishing\n",
    "- category= LabelEncoded URL type\n",
    "- url_len = Length of URL\n",
    "- domain =Extracted domain name from the URL\n",
    "- root_domain = root domain of the URL\n",
    "- count_at =count of at special char\n",
    "- count-question =count of ? special char\n",
    "- count_hyphen =count of - special char\n",
    "- count_equal =count of = special char\n",
    "- count_dot =count of . special char\n",
    "- count_hash=count of # special char\n",
    "- count_percent =count of % special char\n",
    "- count_plus=count of + special char\n",
    "- count_dollarsign=count of $ special char\n",
    "- count_exlamation =count of ! special char\n",
    "- count_star =count of * special char\n",
    "- count_comma=count of , special char\n",
    "- count_double_slash=count of // special char\n",
    "- count_slash=count of single / special char\n",
    "- abnormal_url =count of abnormal urls\n",
    "- count-https= count of https\n",
    "- count-http = count of http\n",
    "- count-www = count of www\n",
    "- digits_count count of digits\n",
    "- hostname_length =count of hostname\n",
    "- sus_url =count of suspicious urls\n",
    "- letters_count= letter count\n",
    "- short_url= short url count\n",
    "- use_of_ip = finp if ip address is present in the URL"
   ]
  },
  {
   "cell_type": "code",
   "execution_count": 21,
   "metadata": {},
   "outputs": [
    {
     "name": "stdout",
     "output_type": "stream",
     "text": [
      "| benign | 428103 |\n",
      "| defacement | 96457 |\n",
      "| phishing | 94111 |\n",
      "| malware | 32520 |\n"
     ]
    }
   ],
   "source": [
    "# sample distribution print in markdown table format\n",
    "\n",
    "label = 'type'\n",
    "lblTypes = set(df1[label])\n",
    "for lbl in lblTypes:\n",
    "    print('| {} | {} |'.format(lbl, len(df1[df1[label] == lbl].index)))"
   ]
  },
  {
   "cell_type": "code",
   "execution_count": 22,
   "metadata": {},
   "outputs": [
    {
     "data": {
      "text/html": [
       "<div>\n",
       "<style scoped>\n",
       "    .dataframe tbody tr th:only-of-type {\n",
       "        vertical-align: middle;\n",
       "    }\n",
       "\n",
       "    .dataframe tbody tr th {\n",
       "        vertical-align: top;\n",
       "    }\n",
       "\n",
       "    .dataframe thead th {\n",
       "        text-align: right;\n",
       "    }\n",
       "</style>\n",
       "<table border=\"1\" class=\"dataframe\">\n",
       "  <thead>\n",
       "    <tr style=\"text-align: right;\">\n",
       "      <th></th>\n",
       "      <th>url</th>\n",
       "      <th>type</th>\n",
       "      <th>domain</th>\n",
       "    </tr>\n",
       "  </thead>\n",
       "  <tbody>\n",
       "    <tr>\n",
       "      <th>count</th>\n",
       "      <td>651191</td>\n",
       "      <td>651191</td>\n",
       "      <td>638968</td>\n",
       "    </tr>\n",
       "    <tr>\n",
       "      <th>unique</th>\n",
       "      <td>640081</td>\n",
       "      <td>4</td>\n",
       "      <td>188796</td>\n",
       "    </tr>\n",
       "    <tr>\n",
       "      <th>top</th>\n",
       "      <td>http://style.org.hc360.com/css/detail/mysite/s...</td>\n",
       "      <td>benign</td>\n",
       "      <td>en.wikipedia.org</td>\n",
       "    </tr>\n",
       "    <tr>\n",
       "      <th>freq</th>\n",
       "      <td>180</td>\n",
       "      <td>428103</td>\n",
       "      <td>13206</td>\n",
       "    </tr>\n",
       "  </tbody>\n",
       "</table>\n",
       "</div>"
      ],
      "text/plain": [
       "                                                      url    type  \\\n",
       "count                                              651191  651191   \n",
       "unique                                             640081       4   \n",
       "top     http://style.org.hc360.com/css/detail/mysite/s...  benign   \n",
       "freq                                                  180  428103   \n",
       "\n",
       "                  domain  \n",
       "count             638968  \n",
       "unique            188796  \n",
       "top     en.wikipedia.org  \n",
       "freq               13206  "
      ]
     },
     "execution_count": 22,
     "metadata": {},
     "output_type": "execute_result"
    }
   ],
   "source": [
    "# Describe data\n",
    "df1.describe(include = ['object'])"
   ]
  },
  {
   "attachments": {},
   "cell_type": "markdown",
   "metadata": {},
   "source": [
    "###  Train/Test Split\n",
    "\n",
    "With your data prepared, split it into a train and test set."
   ]
  },
  {
   "cell_type": "code",
   "execution_count": 23,
   "metadata": {},
   "outputs": [],
   "source": [
    "y = df1['category']\n",
    "X = df1.drop(['url','type','category','domain'],axis=1)"
   ]
  },
  {
   "attachments": {},
   "cell_type": "markdown",
   "metadata": {},
   "source": [
    "### Create a Validation Dataset\n",
    "- will be used to test our model to see how good it is!\n",
    "- use 80/20 split\n",
    "- 80% of samples used for training and 20% held back for validation"
   ]
  },
  {
   "cell_type": "code",
   "execution_count": 24,
   "metadata": {},
   "outputs": [],
   "source": [
    "X_train, X_test, y_train, y_test = train_test_split(X, y, test_size=0.2, random_state=100)\n",
    "    "
   ]
  },
  {
   "attachments": {},
   "cell_type": "markdown",
   "metadata": {},
   "source": [
    "## Build & Evaluate Models\n"
   ]
  },
  {
   "attachments": {},
   "cell_type": "markdown",
   "metadata": {},
   "source": [
    "### Baseline Model\n",
    "Exploring LogisticRegression using GridSearchCV"
   ]
  },
  {
   "cell_type": "code",
   "execution_count": 25,
   "metadata": {},
   "outputs": [
    {
     "name": "stdout",
     "output_type": "stream",
     "text": [
      "Train accuracy: 0.66\n",
      "Test accuracy: 0.66\n",
      "Best params: {'C': 0.1, 'class_weight': None, 'penalty': 'l2', 'solver': 'liblinear'}\n",
      "                  Name  Train Time  Train Accuracy  Test Accuracy  \\\n",
      "0  Logistic Regression  440.539507        0.657673       0.656386   \n",
      "\n",
      "                                         Best Params  \n",
      "0  {'C': 0.1, 'class_weight': None, 'penalty': 'l...  \n"
     ]
    }
   ],
   "source": [
    "# Define the search space for Logistic Regression\n",
    "log_reg_params = {\n",
    "    'solver': ['liblinear', 'lbfgs'],\n",
    "    'penalty': [ 'l2'],\n",
    "    'C': [0.1, 0.5, 1.0],\n",
    "    'class_weight': [None, 'balanced']\n",
    "}\n",
    "\n",
    "# Grid search for Logistic Regression\n",
    "log_reg_model = GridSearchCV(LogisticRegression(max_iter=5000), log_reg_params, cv=5)\n",
    "start_time = time.time()\n",
    "log_reg_model.fit(X_train, y_train)\n",
    "end_time = time.time()\n",
    "train_time = end_time - start_time\n",
    "\n",
    "log_reg_best_params = log_reg_model.best_params_\n",
    "\n",
    "# Evaluate the logistic regression model on the train data\n",
    "train_accuracy = log_reg_model.score(X_train, y_train)\n",
    "test_accuracy = log_reg_model.score(X_test, y_test)\n",
    "\n",
    "results_df = pd.DataFrame({\n",
    "    'Name': ['Logistic Regression'],\n",
    "    'Train Time': [train_time],\n",
    "    'Train Accuracy': [train_accuracy],\n",
    "    'Test Accuracy': [test_accuracy],\n",
    "    'Best Params': [log_reg_best_params]\n",
    "})\n",
    "\n",
    "# Print the train and test accuracy, as well as the best parameters\n",
    "print(\"Train accuracy: {:.2f}\".format(train_accuracy))\n",
    "print(\"Test accuracy: {:.2f}\".format(test_accuracy))\n",
    "print(\"Best params:\", log_reg_best_params)\n",
    "print(results_df)\n",
    "\n",
    "\n"
   ]
  },
  {
   "cell_type": "code",
   "execution_count": 27,
   "metadata": {},
   "outputs": [
    {
     "name": "stdout",
     "output_type": "stream",
     "text": [
      "CPU times: total: 4.62 s\n",
      "Wall time: 4.96 s\n"
     ]
    }
   ],
   "source": [
    "%%time\n",
    "# Selected parameters assignement\n",
    "start_time = time.time()\n",
    "log_reg_model= LogisticRegression(**log_reg_best_params)\n",
    "log_reg_model.fit(X_train,y_train)\n",
    "end_time = time.time()\n",
    "train_time = end_time - start_time\n",
    "# Evaluate the logistic regression model on the train data\n",
    "train_accuracy = log_reg_model.score(X_train, y_train)\n",
    "test_accuracy = log_reg_model.score(X_test, y_test)\n",
    "# Print the train  accuracy\n",
    "print(\"Train accuracy: {:.2f}\".format(train_accuracy))\n",
    "print(\"Test accuracy: {:.2f}\".format(test_accuracy))"
   ]
  },
  {
   "cell_type": "code",
   "execution_count": 33,
   "metadata": {},
   "outputs": [
    {
     "name": "stdout",
     "output_type": "stream",
     "text": [
      "Train accuracy: 0.66\n",
      "Test accuracy: 0.66\n"
     ]
    },
    {
     "data": {
      "text/html": [
       "<div>\n",
       "<style scoped>\n",
       "    .dataframe tbody tr th:only-of-type {\n",
       "        vertical-align: middle;\n",
       "    }\n",
       "\n",
       "    .dataframe tbody tr th {\n",
       "        vertical-align: top;\n",
       "    }\n",
       "\n",
       "    .dataframe thead th {\n",
       "        text-align: right;\n",
       "    }\n",
       "</style>\n",
       "<table border=\"1\" class=\"dataframe\">\n",
       "  <thead>\n",
       "    <tr style=\"text-align: right;\">\n",
       "      <th></th>\n",
       "      <th>Name</th>\n",
       "      <th>Train Time</th>\n",
       "      <th>Train Accuracy</th>\n",
       "      <th>Test Accuracy</th>\n",
       "    </tr>\n",
       "  </thead>\n",
       "  <tbody>\n",
       "    <tr>\n",
       "      <th>0</th>\n",
       "      <td>Logistic Regression with Best Params</td>\n",
       "      <td>4.691923</td>\n",
       "      <td>0.657673</td>\n",
       "      <td>0.656386</td>\n",
       "    </tr>\n",
       "  </tbody>\n",
       "</table>\n",
       "</div>"
      ],
      "text/plain": [
       "                                   Name  Train Time  Train Accuracy  \\\n",
       "0  Logistic Regression with Best Params    4.691923        0.657673   \n",
       "\n",
       "   Test Accuracy  \n",
       "0       0.656386  "
      ]
     },
     "execution_count": 33,
     "metadata": {},
     "output_type": "execute_result"
    }
   ],
   "source": [
    "\n",
    "log_reg_model_result = pd.DataFrame({'Name': ['Logistic Regression with Best Params'], 'Train Time': [train_time], 'Train Accuracy': [train_accuracy], 'Test Accuracy': [test_accuracy]})\n",
    "results_df = pd.concat([results_df, log_reg_model_result])\n",
    "\n",
    "log_reg_model_result\n"
   ]
  },
  {
   "attachments": {},
   "cell_type": "markdown",
   "metadata": {},
   "source": [
    "#### Comparitive modelling for Classifier\n",
    "build and compare score and time of  13 machine learning models"
   ]
  },
  {
   "cell_type": "code",
   "execution_count": 34,
   "metadata": {},
   "outputs": [
    {
     "name": "stdout",
     "output_type": "stream",
     "text": [
      "ModelName : RandomForestClassifier |Accuracy : 0.9370925759565107 | Time:273.5522632598877\n",
      "ModelName : DecisionTreeClassifier |Accuracy : 0.9253756555256106 | Time:11.851464986801147\n",
      "ModelName : ExtraTreesClassifier |Accuracy : 0.938351799384209 | Time:256.73201990127563\n",
      "ModelName : XGBClassifier |Accuracy : 0.9366472408418369 | Time:192.8946979045868\n",
      "ModelName : LGBMClassifier |Accuracy : 0.9299441795468332 | Time:21.10860013961792\n",
      "ModelName : LogisticRegression |Accuracy : 0.6563855680710079 | Time:11.966433048248291\n",
      "ModelName : AdaBoostClassifier |Accuracy : 0.313024516465882 | Time:55.81488370895386\n",
      "ModelName : KNeighborsClassifier |Accuracy : 0.8862399127757431 | Time:0.12286520004272461\n",
      "ModelName : GaussianNB |Accuracy : 0.6563855680710079 | Time:0.6190383434295654\n"
     ]
    }
   ],
   "source": [
    "# Please note this code will take time to execute\n",
    "#Dropping model SGDClassifier, SVM and GradientBoostingClassifier as the fit time is too high\n",
    "model = { \n",
    "         \"RandomForestClassifier\":RandomForestClassifier(),\n",
    "         \"DecisionTreeClassifier\":DecisionTreeClassifier(),\n",
    "         \"ExtraTreesClassifier\": ExtraTreesClassifier(),\n",
    "         \"XGBClassifier\":XGBClassifier(),\n",
    "         \"LGBMClassifier\":LGBMClassifier(),\n",
    "         \"LogisticRegression\":LogisticRegression(max_iter=5000),\n",
    "         \"AdaBoostClassifier\":AdaBoostClassifier(),\n",
    "         \"KNeighborsClassifier\": KNeighborsClassifier(),\n",
    "         \"GaussianNB\": GaussianNB()\n",
    "}\n",
    "\n",
    "\n",
    "results = {}\n",
    "algo_name=[]\n",
    "accuracy_test=[]\n",
    "time_taken=[]\n",
    "for algo in model:\n",
    "    clf = model[algo]\n",
    "    # Start the timer\n",
    "    start_time = time.time()\n",
    "    clf.fit(X_train,y_train)\n",
    "    # Calculate the elapsed time\n",
    "    elapsed_time = time.time() - start_time\n",
    "    score = clf.score(X_test,y_test)\n",
    "    algo_name.append(algo)\n",
    "    accuracy_test.append(score*100)\n",
    "    time_taken.append(elapsed_time)\n",
    "    print (\"ModelName : %s |Accuracy : %s | Time:%s\" %(algo, score,elapsed_time))\n",
    "    results[algo] = score\n",
    "\n"
   ]
  },
  {
   "attachments": {},
   "cell_type": "markdown",
   "metadata": {},
   "source": [
    "###  Model comparison"
   ]
  },
  {
   "cell_type": "code",
   "execution_count": 35,
   "metadata": {},
   "outputs": [
    {
     "name": "stdout",
     "output_type": "stream",
     "text": [
      "Best Classifier: ExtraTreesClassifier\n"
     ]
    },
    {
     "data": {
      "text/html": [
       "<div>\n",
       "<style scoped>\n",
       "    .dataframe tbody tr th:only-of-type {\n",
       "        vertical-align: middle;\n",
       "    }\n",
       "\n",
       "    .dataframe tbody tr th {\n",
       "        vertical-align: top;\n",
       "    }\n",
       "\n",
       "    .dataframe thead th {\n",
       "        text-align: right;\n",
       "    }\n",
       "</style>\n",
       "<table border=\"1\" class=\"dataframe\">\n",
       "  <thead>\n",
       "    <tr style=\"text-align: right;\">\n",
       "      <th></th>\n",
       "      <th>Model</th>\n",
       "      <th>Accuracy</th>\n",
       "      <th>TimeTaken</th>\n",
       "    </tr>\n",
       "  </thead>\n",
       "  <tbody>\n",
       "    <tr>\n",
       "      <th>0</th>\n",
       "      <td>RandomForestClassifier</td>\n",
       "      <td>93.709258</td>\n",
       "      <td>273.552263</td>\n",
       "    </tr>\n",
       "    <tr>\n",
       "      <th>1</th>\n",
       "      <td>DecisionTreeClassifier</td>\n",
       "      <td>92.537566</td>\n",
       "      <td>11.851465</td>\n",
       "    </tr>\n",
       "    <tr>\n",
       "      <th>2</th>\n",
       "      <td>ExtraTreesClassifier</td>\n",
       "      <td>93.835180</td>\n",
       "      <td>256.732020</td>\n",
       "    </tr>\n",
       "    <tr>\n",
       "      <th>3</th>\n",
       "      <td>XGBClassifier</td>\n",
       "      <td>93.664724</td>\n",
       "      <td>192.894698</td>\n",
       "    </tr>\n",
       "    <tr>\n",
       "      <th>4</th>\n",
       "      <td>LGBMClassifier</td>\n",
       "      <td>92.994418</td>\n",
       "      <td>21.108600</td>\n",
       "    </tr>\n",
       "    <tr>\n",
       "      <th>5</th>\n",
       "      <td>LogisticRegression</td>\n",
       "      <td>65.638557</td>\n",
       "      <td>11.966433</td>\n",
       "    </tr>\n",
       "    <tr>\n",
       "      <th>6</th>\n",
       "      <td>AdaBoostClassifier</td>\n",
       "      <td>31.302452</td>\n",
       "      <td>55.814884</td>\n",
       "    </tr>\n",
       "    <tr>\n",
       "      <th>7</th>\n",
       "      <td>KNeighborsClassifier</td>\n",
       "      <td>88.623991</td>\n",
       "      <td>0.122865</td>\n",
       "    </tr>\n",
       "    <tr>\n",
       "      <th>8</th>\n",
       "      <td>GaussianNB</td>\n",
       "      <td>65.638557</td>\n",
       "      <td>0.619038</td>\n",
       "    </tr>\n",
       "  </tbody>\n",
       "</table>\n",
       "</div>"
      ],
      "text/plain": [
       "                    Model   Accuracy   TimeTaken\n",
       "0  RandomForestClassifier  93.709258  273.552263\n",
       "1  DecisionTreeClassifier  92.537566   11.851465\n",
       "2    ExtraTreesClassifier  93.835180  256.732020\n",
       "3           XGBClassifier  93.664724  192.894698\n",
       "4          LGBMClassifier  92.994418   21.108600\n",
       "5      LogisticRegression  65.638557   11.966433\n",
       "6      AdaBoostClassifier  31.302452   55.814884\n",
       "7    KNeighborsClassifier  88.623991    0.122865\n",
       "8              GaussianNB  65.638557    0.619038"
      ]
     },
     "execution_count": 35,
     "metadata": {},
     "output_type": "execute_result"
    }
   ],
   "source": [
    "best_model = max(results, key=results.get)\n",
    "print('Best Classifier: ' + best_model)\n",
    "output = pd.DataFrame({\"Model\":algo_name,\n",
    "                      \"Accuracy\":accuracy_test,\"TimeTaken\":time_taken})\n",
    "output"
   ]
  },
  {
   "attachments": {},
   "cell_type": "markdown",
   "metadata": {},
   "source": [
    "Model accuracy comparision"
   ]
  },
  {
   "cell_type": "code",
   "execution_count": 36,
   "metadata": {},
   "outputs": [
    {
     "data": {
      "image/png": "[encoded data removed]",
      "text/plain": [
       "<Figure size 1080x720 with 1 Axes>"
      ]
     },
     "metadata": {
      "needs_background": "light"
     },
     "output_type": "display_data"
    }
   ],
   "source": [
    "plt.figure(figsize=(15, 10))\n",
    "plots = sns.barplot(x='Model', y='Accuracy', data=output)\n",
    "for bar in plots.patches:\n",
    "    plots.annotate(format(bar.get_height(), '.2f'),\n",
    "                   (bar.get_x() + bar.get_width() / 2,\n",
    "                    bar.get_height()), ha='center', va='center',\n",
    "                   size=15, xytext=(0, 8),\n",
    "                   textcoords='offset points')\n",
    "\n",
    "plt.xlabel(\"Models\", size=14)\n",
    "plt.xticks(rotation=45);\n",
    "plt.ylabel(\"Accuracy\", size=14)\n",
    "plt.title('Model comparision of Accuracy')\n",
    "plt.savefig('images/model-accuracy-comparision')\n",
    "plt.show()\n",
    "\n"
   ]
  },
  {
   "attachments": {},
   "cell_type": "markdown",
   "metadata": {},
   "source": [
    "Model tine taken to fit comparision"
   ]
  },
  {
   "cell_type": "code",
   "execution_count": 39,
   "metadata": {},
   "outputs": [
    {
     "data": {
      "image/png": "[encoded data removed]",
      "text/plain": [
       "<Figure size 1080x720 with 1 Axes>"
      ]
     },
     "metadata": {
      "needs_background": "light"
     },
     "output_type": "display_data"
    }
   ],
   "source": [
    "plt.figure(figsize=(15, 10))\n",
    "plots = sns.barplot(x='Model', y='TimeTaken', data=output)\n",
    "for bar in plots.patches:\n",
    "    plots.annotate(format(bar.get_height(), '.2f'),\n",
    "                   (bar.get_x() + bar.get_width() / 2,\n",
    "                    bar.get_height()), ha='center', va='center',\n",
    "                   size=15, xytext=(0, 8),\n",
    "                   textcoords='offset points')\n",
    "\n",
    "plt.xlabel(\"Models\", size=14)\n",
    "plt.xticks(rotation=45);\n",
    "plt.ylabel(\"TimeTaken\", size=14)\n",
    "plt.savefig('images/ModelTimeTakenComparision')\n",
    "plt.title('Model comparision of time taken to fit')\n",
    "plt.show()\n"
   ]
  },
  {
   "attachments": {},
   "cell_type": "markdown",
   "metadata": {},
   "source": [
    "### Inference: \n",
    "\n",
    "1. ExtraTreesClassifier  model  classifier has the best accuracy of 93.81%, followed by RandomForest with  93.67% and XGBClassifier  with 93.66. However all the three models time taken to fit was moderate. \n",
    "2. KNeighborsClassifier is the fasted model to  fit with a reasonable accuracy of 88.6.\n",
    "3. LGBMClassifier is best overall model with accuracy 92.994418 and has low fit time.\n",
    "4. ExtraTreesClassifier,RandomForestClassifier,LGBMClassifier and XGBClassifier would be further evalulated"
   ]
  }
 ],
 "metadata": {
  "kernelspec": {
   "display_name": "Python 3",
   "language": "python",
   "name": "python3"
  },
  "language_info": {
   "codemirror_mode": {
    "name": "ipython",
    "version": 3
   },
   "file_extension": ".py",
   "mimetype": "text/x-python",
   "name": "python",
   "nbconvert_exporter": "python",
   "pygments_lexer": "ipython3",
   "version": "3.9.12"
  },
  "widgets": {
   "application/vnd.jupyter.widget-state+json": {
    "state": {},
    "version_major": 2,
    "version_minor": 0
   }
  }
 },
 "nbformat": 4,
 "nbformat_minor": 4
}
